{
 "cells": [
  {
   "cell_type": "markdown",
   "metadata": {},
   "source": [
    "In the Part 1 of this series on credit risk modelling, we will use logistic regression to create a model which will predict the probability of default by the borrowers. In Part 2, we will explore random forrest algorithm. Let's begin by importing all the required libraries:"
   ]
  },
  {
   "cell_type": "code",
   "execution_count": 4,
   "metadata": {},
   "outputs": [],
   "source": [
    "import matplotlib.pyplot as plt\n",
    "import numpy as np\n",
    "import pandas as pd\n",
    "\n",
    "from sklearn.linear_model import LogisticRegression\n",
    "from sklearn.model_selection import train_test_split\n",
    "from sklearn.metrics import precision_recall_fscore_support, roc_curve, classification_report, confusion_matrix"
   ]
  },
  {
   "cell_type": "markdown",
   "metadata": {},
   "source": [
    "Load the dataset to a DataFrame and create a copy of it."
   ]
  },
  {
   "cell_type": "code",
   "execution_count": 5,
   "metadata": {},
   "outputs": [],
   "source": [
    "df = pd.read_csv(\"../data/credit.csv\")\n",
    "original_df = df.copy()"
   ]
  },
  {
   "cell_type": "markdown",
   "metadata": {},
   "source": [
    "Let's have a look at the first 5 rows of our dataset."
   ]
  },
  {
   "cell_type": "code",
   "execution_count": 6,
   "metadata": {},
   "outputs": [
    {
     "data": {
      "text/html": [
       "<div>\n",
       "<style scoped>\n",
       "    .dataframe tbody tr th:only-of-type {\n",
       "        vertical-align: middle;\n",
       "    }\n",
       "\n",
       "    .dataframe tbody tr th {\n",
       "        vertical-align: top;\n",
       "    }\n",
       "\n",
       "    .dataframe thead th {\n",
       "        text-align: right;\n",
       "    }\n",
       "</style>\n",
       "<table border=\"1\" class=\"dataframe\">\n",
       "  <thead>\n",
       "    <tr style=\"text-align: right;\">\n",
       "      <th></th>\n",
       "      <th>age</th>\n",
       "      <th>income</th>\n",
       "      <th>home_ownership</th>\n",
       "      <th>job_length</th>\n",
       "      <th>loan_reason</th>\n",
       "      <th>amount</th>\n",
       "      <th>interest_rate</th>\n",
       "      <th>loan_status</th>\n",
       "      <th>loan_percent_income</th>\n",
       "    </tr>\n",
       "  </thead>\n",
       "  <tbody>\n",
       "    <tr>\n",
       "      <th>0</th>\n",
       "      <td>26</td>\n",
       "      <td>232500</td>\n",
       "      <td>MORTGAGE</td>\n",
       "      <td>0.0</td>\n",
       "      <td>MEDICAL</td>\n",
       "      <td>25000</td>\n",
       "      <td>14.17</td>\n",
       "      <td>0</td>\n",
       "      <td>0.11</td>\n",
       "    </tr>\n",
       "    <tr>\n",
       "      <th>1</th>\n",
       "      <td>25</td>\n",
       "      <td>230000</td>\n",
       "      <td>MORTGAGE</td>\n",
       "      <td>5.0</td>\n",
       "      <td>MEDICAL</td>\n",
       "      <td>35000</td>\n",
       "      <td>13.99</td>\n",
       "      <td>0</td>\n",
       "      <td>0.15</td>\n",
       "    </tr>\n",
       "    <tr>\n",
       "      <th>2</th>\n",
       "      <td>23</td>\n",
       "      <td>83000</td>\n",
       "      <td>RENT</td>\n",
       "      <td>7.0</td>\n",
       "      <td>EDUCATION</td>\n",
       "      <td>25300</td>\n",
       "      <td>10.99</td>\n",
       "      <td>1</td>\n",
       "      <td>0.30</td>\n",
       "    </tr>\n",
       "    <tr>\n",
       "      <th>3</th>\n",
       "      <td>22</td>\n",
       "      <td>12600</td>\n",
       "      <td>MORTGAGE</td>\n",
       "      <td>NaN</td>\n",
       "      <td>PERSONAL</td>\n",
       "      <td>2000</td>\n",
       "      <td>5.42</td>\n",
       "      <td>1</td>\n",
       "      <td>0.16</td>\n",
       "    </tr>\n",
       "    <tr>\n",
       "      <th>4</th>\n",
       "      <td>25</td>\n",
       "      <td>12600</td>\n",
       "      <td>OWN</td>\n",
       "      <td>3.0</td>\n",
       "      <td>PERSONAL</td>\n",
       "      <td>1750</td>\n",
       "      <td>13.61</td>\n",
       "      <td>0</td>\n",
       "      <td>0.14</td>\n",
       "    </tr>\n",
       "  </tbody>\n",
       "</table>\n",
       "</div>"
      ],
      "text/plain": [
       "   age  income home_ownership  job_length loan_reason  amount  interest_rate  \\\n",
       "0   26  232500       MORTGAGE         0.0     MEDICAL   25000          14.17   \n",
       "1   25  230000       MORTGAGE         5.0     MEDICAL   35000          13.99   \n",
       "2   23   83000           RENT         7.0   EDUCATION   25300          10.99   \n",
       "3   22   12600       MORTGAGE         NaN    PERSONAL    2000           5.42   \n",
       "4   25   12600            OWN         3.0    PERSONAL    1750          13.61   \n",
       "\n",
       "   loan_status  loan_percent_income  \n",
       "0            0                 0.11  \n",
       "1            0                 0.15  \n",
       "2            1                 0.30  \n",
       "3            1                 0.16  \n",
       "4            0                 0.14  "
      ]
     },
     "execution_count": 6,
     "metadata": {},
     "output_type": "execute_result"
    }
   ],
   "source": [
    "df.head()"
   ]
  },
  {
   "cell_type": "markdown",
   "metadata": {},
   "source": [
    "Some other basic information about the dataset."
   ]
  },
  {
   "cell_type": "code",
   "execution_count": 7,
   "metadata": {
    "scrolled": true
   },
   "outputs": [
    {
     "data": {
      "text/plain": [
       "(32048, 9)"
      ]
     },
     "execution_count": 7,
     "metadata": {},
     "output_type": "execute_result"
    }
   ],
   "source": [
    "df.shape"
   ]
  },
  {
   "cell_type": "code",
   "execution_count": 8,
   "metadata": {},
   "outputs": [
    {
     "name": "stdout",
     "output_type": "stream",
     "text": [
      "<class 'pandas.core.frame.DataFrame'>\n",
      "RangeIndex: 32048 entries, 0 to 32047\n",
      "Data columns (total 9 columns):\n",
      "age                    32048 non-null int64\n",
      "income                 32048 non-null int64\n",
      "home_ownership         32048 non-null object\n",
      "job_length             31159 non-null float64\n",
      "loan_reason            32048 non-null object\n",
      "amount                 32048 non-null int64\n",
      "interest_rate          28989 non-null float64\n",
      "loan_status            32048 non-null int64\n",
      "loan_percent_income    32048 non-null float64\n",
      "dtypes: float64(3), int64(4), object(2)\n",
      "memory usage: 2.2+ MB\n"
     ]
    }
   ],
   "source": [
    "df.info()"
   ]
  },
  {
   "cell_type": "code",
   "execution_count": 9,
   "metadata": {},
   "outputs": [
    {
     "name": "stdout",
     "output_type": "stream",
     "text": [
      "0    0\n",
      "1    0\n",
      "2    1\n",
      "3    1\n",
      "4    0\n",
      "Name: loan_status, dtype: int64\n"
     ]
    }
   ],
   "source": [
    "#loan_status of 1 is default and 0 for non default.\n",
    "print(df['loan_status'].head())"
   ]
  },
  {
   "cell_type": "code",
   "execution_count": 10,
   "metadata": {},
   "outputs": [
    {
     "data": {
      "image/png": "[encoded data removed]",
      "text/plain": [
       "<Figure size 432x288 with 1 Axes>"
      ]
     },
     "metadata": {
      "needs_background": "light"
     },
     "output_type": "display_data"
    }
   ],
   "source": [
    "# Create the scatter plot for age and amount\n",
    "plt.scatter(df['age'], df['amount'], c='red', alpha=0.4)\n",
    "plt.xlabel(\"Age\")\n",
    "plt.ylabel(\"Amount\")\n",
    "plt.savefig('crm2.png')"
   ]
  },
  {
   "cell_type": "markdown",
   "metadata": {},
   "source": [
    "## Handling missing data."
   ]
  },
  {
   "cell_type": "code",
   "execution_count": 11,
   "metadata": {},
   "outputs": [
    {
     "name": "stdout",
     "output_type": "stream",
     "text": [
      "Index(['job_length', 'interest_rate'], dtype='object')\n"
     ]
    }
   ],
   "source": [
    "# Let us see which columns have null values:\n",
    "print(df.columns[df.isnull().any()])"
   ]
  },
  {
   "cell_type": "code",
   "execution_count": 12,
   "metadata": {},
   "outputs": [
    {
     "data": {
      "text/html": [
       "<div>\n",
       "<style scoped>\n",
       "    .dataframe tbody tr th:only-of-type {\n",
       "        vertical-align: middle;\n",
       "    }\n",
       "\n",
       "    .dataframe tbody tr th {\n",
       "        vertical-align: top;\n",
       "    }\n",
       "\n",
       "    .dataframe thead th {\n",
       "        text-align: right;\n",
       "    }\n",
       "</style>\n",
       "<table border=\"1\" class=\"dataframe\">\n",
       "  <thead>\n",
       "    <tr style=\"text-align: right;\">\n",
       "      <th></th>\n",
       "      <th>age</th>\n",
       "      <th>income</th>\n",
       "      <th>home_ownership</th>\n",
       "      <th>job_length</th>\n",
       "      <th>loan_reason</th>\n",
       "      <th>amount</th>\n",
       "      <th>interest_rate</th>\n",
       "      <th>loan_status</th>\n",
       "      <th>loan_percent_income</th>\n",
       "    </tr>\n",
       "  </thead>\n",
       "  <tbody>\n",
       "    <tr>\n",
       "      <th>6</th>\n",
       "      <td>24</td>\n",
       "      <td>41000</td>\n",
       "      <td>RENT</td>\n",
       "      <td>2.0</td>\n",
       "      <td>HOMEIMPROVEMENT</td>\n",
       "      <td>25000</td>\n",
       "      <td>NaN</td>\n",
       "      <td>1</td>\n",
       "      <td>0.61</td>\n",
       "    </tr>\n",
       "    <tr>\n",
       "      <th>12</th>\n",
       "      <td>24</td>\n",
       "      <td>225000</td>\n",
       "      <td>RENT</td>\n",
       "      <td>0.0</td>\n",
       "      <td>MEDICAL</td>\n",
       "      <td>6000</td>\n",
       "      <td>NaN</td>\n",
       "      <td>0</td>\n",
       "      <td>0.03</td>\n",
       "    </tr>\n",
       "    <tr>\n",
       "      <th>18</th>\n",
       "      <td>22</td>\n",
       "      <td>12996</td>\n",
       "      <td>OWN</td>\n",
       "      <td>1.0</td>\n",
       "      <td>EDUCATION</td>\n",
       "      <td>4750</td>\n",
       "      <td>NaN</td>\n",
       "      <td>1</td>\n",
       "      <td>0.37</td>\n",
       "    </tr>\n",
       "    <tr>\n",
       "      <th>50</th>\n",
       "      <td>22</td>\n",
       "      <td>54996</td>\n",
       "      <td>RENT</td>\n",
       "      <td>6.0</td>\n",
       "      <td>EDUCATION</td>\n",
       "      <td>25000</td>\n",
       "      <td>NaN</td>\n",
       "      <td>1</td>\n",
       "      <td>0.45</td>\n",
       "    </tr>\n",
       "    <tr>\n",
       "      <th>51</th>\n",
       "      <td>24</td>\n",
       "      <td>55000</td>\n",
       "      <td>RENT</td>\n",
       "      <td>4.0</td>\n",
       "      <td>HOMEIMPROVEMENT</td>\n",
       "      <td>25000</td>\n",
       "      <td>NaN</td>\n",
       "      <td>1</td>\n",
       "      <td>0.45</td>\n",
       "    </tr>\n",
       "  </tbody>\n",
       "</table>\n",
       "</div>"
      ],
      "text/plain": [
       "    age  income home_ownership  job_length      loan_reason  amount  \\\n",
       "6    24   41000           RENT         2.0  HOMEIMPROVEMENT   25000   \n",
       "12   24  225000           RENT         0.0          MEDICAL    6000   \n",
       "18   22   12996            OWN         1.0        EDUCATION    4750   \n",
       "50   22   54996           RENT         6.0        EDUCATION   25000   \n",
       "51   24   55000           RENT         4.0  HOMEIMPROVEMENT   25000   \n",
       "\n",
       "    interest_rate  loan_status  loan_percent_income  \n",
       "6             NaN            1                 0.61  \n",
       "12            NaN            0                 0.03  \n",
       "18            NaN            1                 0.37  \n",
       "50            NaN            1                 0.45  \n",
       "51            NaN            1                 0.45  "
      ]
     },
     "metadata": {},
     "output_type": "display_data"
    }
   ],
   "source": [
    "# Let's look at the missing values in the interest rate column:\n",
    "display(df[df['interest_rate'].isnull()].head())"
   ]
  },
  {
   "cell_type": "code",
   "execution_count": 13,
   "metadata": {},
   "outputs": [],
   "source": [
    "# Replace the missing values with the median value for all interest rates\n",
    "df['interest_rate'].fillna((df['interest_rate'].median()), inplace=True)"
   ]
  },
  {
   "cell_type": "code",
   "execution_count": 14,
   "metadata": {},
   "outputs": [
    {
     "data": {
      "text/html": [
       "<div>\n",
       "<style scoped>\n",
       "    .dataframe tbody tr th:only-of-type {\n",
       "        vertical-align: middle;\n",
       "    }\n",
       "\n",
       "    .dataframe tbody tr th {\n",
       "        vertical-align: top;\n",
       "    }\n",
       "\n",
       "    .dataframe thead th {\n",
       "        text-align: right;\n",
       "    }\n",
       "</style>\n",
       "<table border=\"1\" class=\"dataframe\">\n",
       "  <thead>\n",
       "    <tr style=\"text-align: right;\">\n",
       "      <th></th>\n",
       "      <th>age</th>\n",
       "      <th>income</th>\n",
       "      <th>home_ownership</th>\n",
       "      <th>job_length</th>\n",
       "      <th>loan_reason</th>\n",
       "      <th>amount</th>\n",
       "      <th>interest_rate</th>\n",
       "      <th>loan_status</th>\n",
       "      <th>loan_percent_income</th>\n",
       "    </tr>\n",
       "  </thead>\n",
       "  <tbody>\n",
       "  </tbody>\n",
       "</table>\n",
       "</div>"
      ],
      "text/plain": [
       "Empty DataFrame\n",
       "Columns: [age, income, home_ownership, job_length, loan_reason, amount, interest_rate, loan_status, loan_percent_income]\n",
       "Index: []"
      ]
     },
     "metadata": {},
     "output_type": "display_data"
    }
   ],
   "source": [
    "display(df[df['interest_rate'].isnull()].head())"
   ]
  },
  {
   "cell_type": "markdown",
   "metadata": {},
   "source": [
    "## Remove missing data."
   ]
  },
  {
   "cell_type": "code",
   "execution_count": 15,
   "metadata": {},
   "outputs": [
    {
     "data": {
      "text/plain": [
       "889"
      ]
     },
     "metadata": {},
     "output_type": "display_data"
    }
   ],
   "source": [
    "# Print the number of missing values in the job_length column.\n",
    "display(df['job_length'].isnull().sum())"
   ]
  },
  {
   "cell_type": "code",
   "execution_count": 16,
   "metadata": {},
   "outputs": [],
   "source": [
    "# Get the indices\n",
    "ind = df[df['job_length'].isnull()].index"
   ]
  },
  {
   "cell_type": "code",
   "execution_count": 17,
   "metadata": {},
   "outputs": [],
   "source": [
    "# Save the new dataset without missing values.\n",
    "df_no_missing_data = df.drop(ind)"
   ]
  },
  {
   "cell_type": "code",
   "execution_count": 18,
   "metadata": {},
   "outputs": [
    {
     "name": "stdout",
     "output_type": "stream",
     "text": [
      "Index([], dtype='object')\n"
     ]
    }
   ],
   "source": [
    "print(df_no_missing_data.columns[df_no_missing_data.isnull().any()])"
   ]
  },
  {
   "cell_type": "markdown",
   "metadata": {},
   "source": [
    "## One hot encoding."
   ]
  },
  {
   "cell_type": "code",
   "execution_count": 19,
   "metadata": {},
   "outputs": [
    {
     "data": {
      "text/plain": [
       "Index(['age', 'income', 'job_length', 'amount', 'interest_rate', 'loan_status',\n",
       "       'loan_percent_income', 'home_ownership_MORTGAGE',\n",
       "       'home_ownership_OTHER', 'home_ownership_OWN', 'home_ownership_RENT',\n",
       "       'loan_reason_DEBTCONSOLIDATION', 'loan_reason_EDUCATION',\n",
       "       'loan_reason_HOMEIMPROVEMENT', 'loan_reason_MEDICAL',\n",
       "       'loan_reason_PERSONAL', 'loan_reason_VENTURE'],\n",
       "      dtype='object')"
      ]
     },
     "metadata": {},
     "output_type": "display_data"
    }
   ],
   "source": [
    "# Create two data sets for numeric and non-numeric data\n",
    "df_num = df_no_missing_data.select_dtypes(exclude=['object'])\n",
    "df_str = df_no_missing_data.select_dtypes(include=['object'])\n",
    "\n",
    "# One-hot encode the non-numeric columns\n",
    "df_str_onehot = pd.get_dummies(df_str)\n",
    "\n",
    "# Union the one-hot encoded columns to the numeric ones\n",
    "df_loan_prep = pd.concat([df_num, df_str_onehot], axis=1)\n",
    "\n",
    "# Print the columns in the new data set\n",
    "display(df_loan_prep.columns)"
   ]
  },
  {
   "cell_type": "markdown",
   "metadata": {},
   "source": [
    "## Building a Logistic Regression Model\n",
    "\n",
    "We turn now to construct a logistic regression classifier. The form of the hypothesis $h_\\theta(x)$ for logistic regression is:\n",
    "\n",
    "$$h_\\theta(x) = g(\\theta^Tx)$$\n",
    "  \n",
    "where the function $g$ is the <b>sigmoid function</b>:\n",
    "\n",
    "$$g(z) = \\frac{1}{1+e^{-z}}$$\n",
    "\n",
    "### Cost Function J$(\\theta)$\n",
    "The cost function for logistic regression is\n",
    "\n",
    "$$J(\\theta) = \\frac{1}{m}\\sum_{i=1}^{m} \\left(-y^{(i)} \\log\\left[h_{\\theta}(x^{(i)})\\right] - (1- y^{(i)}) \\log\\left[1-h_{\\theta}(x^{(i)})\\right]\\right)$$\n",
    "\n",
    "which can be rewritten as\n",
    "\n",
    "$$J(\\theta) = - \\frac{1}{m} \\left(\\sum_{i=1}^{m} y^{(i)} \\log\\left[  h_{\\theta}(x^{(i)})\\right] + (1- y^{(i)}) \\log\\left[1-h_{\\theta}(x^{(i)})\\right] \\right)$$\n",
    "\n",
    "The gradient of this cost function is a vector which is the same length $n$ as $\\theta$, where the $j$th element (for $j = 0,1,2,\\ldots,n)$ is\n",
    "\n",
    "$$ \\frac{\\partial J(\\theta)}{\\partial \\theta_j} = \\frac{1}{m} \\sum_{i = 1}^{m} \\left(h_{\\theta}(x^{(i)}) - y^{(i)}  \\right) x^{(i)}_j$$\n",
    " \n",
    "\n",
    "Here, we will use the `LogisticRegression` function from sklearn."
   ]
  },
  {
   "cell_type": "code",
   "execution_count": 20,
   "metadata": {},
   "outputs": [
    {
     "name": "stdout",
     "output_type": "stream",
     "text": [
      "   loan_status  default_probability\n",
      "0            1             0.486872\n",
      "1            0             0.028322\n",
      "2            0             0.030441\n",
      "3            1             0.453022\n",
      "4            0             0.203535\n"
     ]
    }
   ],
   "source": [
    "X = df_loan_prep.copy()\n",
    "y = df_loan_prep[['loan_status']]\n",
    "X_train, X_test, y_train, y_test = train_test_split(X, y, test_size=.4)\n",
    "\n",
    "# Train the logistic regression model on the training data\n",
    "lr_classifier = LogisticRegression(solver='lbfgs').fit(X_train, np.ravel(y_train))\n",
    "\n",
    "# Create predictions of probability for loan status using test data\n",
    "predictions = lr_classifier.predict_proba(X_test)\n",
    "\n",
    "# Create dataframes of first five predictions, and first five true labels\n",
    "predictions_df = pd.DataFrame(predictions[:,1][0:5], columns = ['default_probability'])\n",
    "real_df = y_test.head()\n",
    "\n",
    "\n",
    "# Concatenate and print the two data frames for comparison\n",
    "print(pd.concat([real_df.reset_index(drop = True),predictions_df], axis = 1))"
   ]
  },
  {
   "cell_type": "code",
   "execution_count": 21,
   "metadata": {},
   "outputs": [
    {
     "name": "stdout",
     "output_type": "stream",
     "text": [
      "              precision    recall  f1-score   support\n",
      "\n",
      " Non-Default       0.81      0.99      0.89      9796\n",
      "     Default       0.74      0.14      0.24      2668\n",
      "\n",
      "   micro avg       0.81      0.81      0.81     12464\n",
      "   macro avg       0.77      0.56      0.56     12464\n",
      "weighted avg       0.79      0.81      0.75     12464\n",
      "\n"
     ]
    }
   ],
   "source": [
    "# Create a dataframe for the probabilities of default\n",
    "predictions_df = pd.DataFrame(predictions[:,1], columns = ['default_probability'])\n",
    "\n",
    "# Reassign loan status based on the threshold\n",
    "predictions_df['loan_status'] = predictions_df['default_probability'].apply(lambda x: 1 if x > 0.50 else 0)\n",
    "\n",
    "# Print the classification report\n",
    "target_names = ['Non-Default', 'Default']\n",
    "print(classification_report(y_test, predictions_df['loan_status'], target_names=target_names))"
   ]
  },
  {
   "cell_type": "code",
   "execution_count": 22,
   "metadata": {},
   "outputs": [
    {
     "name": "stdout",
     "output_type": "stream",
     "text": [
      "0.8054396662387676\n"
     ]
    }
   ],
   "source": [
    "# Print the accuracy score the model\n",
    "print(lr_classifier.score(X_test, y_test))"
   ]
  },
  {
   "cell_type": "code",
   "execution_count": 23,
   "metadata": {},
   "outputs": [
    {
     "data": {
      "image/png": "[encoded data removed]",
      "text/plain": [
       "<Figure size 432x288 with 1 Axes>"
      ]
     },
     "metadata": {
      "needs_background": "light"
     },
     "output_type": "display_data"
    }
   ],
   "source": [
    "# Plot the ROC curve of the probabilities of default\n",
    "prob_default = predictions[:, 1]\n",
    "false_positive_rate, true_positive_rate, threshold = roc_curve(y_test, prob_default)\n",
    "plt.plot(false_positive_rate, true_positive_rate, color = 'red')\n",
    "plt.plot([0, 1], [0, 1], linestyle='--')\n",
    "plt.savefig('crm4.png')\n",
    "plt.show()"
   ]
  },
  {
   "cell_type": "code",
   "execution_count": 24,
   "metadata": {},
   "outputs": [
    {
     "name": "stdout",
     "output_type": "stream",
     "text": [
      " Total Negative 9660 \n",
      " False Positive 136 \n",
      " False Negative 2289 \n",
      " Total Positive 379\n"
     ]
    }
   ],
   "source": [
    "# Confusion matrix\n",
    "tn, fp, fn, tp = confusion_matrix(y_test,predictions_df['loan_status']).ravel()\n",
    "print(\" Total Negative\", tn, \"\\n False Positive\", fp, \"\\n False Negative\", fn, \"\\n Total Positive\", tp)\n"
   ]
  }
 ],
 "metadata": {
  "kernelspec": {
   "display_name": "Python 3",
   "language": "python",
   "name": "python3"
  },
  "language_info": {
   "codemirror_mode": {
    "name": "ipython",
    "version": 3
   },
   "file_extension": ".py",
   "mimetype": "text/x-python",
   "name": "python",
   "nbconvert_exporter": "python",
   "pygments_lexer": "ipython3",
   "version": "3.7.1"
  }
 },
 "nbformat": 4,
 "nbformat_minor": 2
}
